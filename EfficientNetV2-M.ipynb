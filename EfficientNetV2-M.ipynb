{
 "cells": [
  {
   "cell_type": "markdown",
   "metadata": {},
   "source": [
    "EfficientNet V2 M"
   ]
  },
  {
   "cell_type": "markdown",
   "metadata": {},
   "source": [
    "Import Necessary Libraries"
   ]
  },
  {
   "cell_type": "code",
   "execution_count": null,
   "metadata": {},
   "outputs": [],
   "source": [
    "import torch\n",
    "import torch.nn as nn\n",
    "import torch.optim as optim\n",
    "from torch.utils.data import DataLoader\n",
    "from torchvision import transforms, datasets, models\n",
    "from torch.cuda.amp import autocast, GradScaler\n",
    "# from torch.utils.tensorboard import SummaryWriter\n",
    "from sklearn.metrics import confusion_matrix, accuracy_score, classification_report\n",
    "import matplotlib.pyplot as plt\n",
    "from tqdm import tqdm\n",
    "import numpy as np\n",
    "import seaborn as sns\n",
    "import os"
   ]
  },
  {
   "cell_type": "code",
   "execution_count": 2,
   "metadata": {},
   "outputs": [
    {
     "name": "stdout",
     "output_type": "stream",
     "text": [
      "CUDA is available! GPU: NVIDIA GeForce RTX 4060 Ti\n",
      "Compute Capability: (8, 9)\n",
      "✅ Your GPU supports Mixed Precision Training (AMP)!\n"
     ]
    }
   ],
   "source": [
    "# Check if CUDA (GPU) is available\n",
    "if torch.cuda.is_available():\n",
    "    device = torch.device(\"cuda\")\n",
    "    print(f\"CUDA is available! GPU: {torch.cuda.get_device_name(0)}\")\n",
    "\n",
    "    # Check if the GPU supports mixed precision (AMP)\n",
    "    compute_capability = torch.cuda.get_device_capability(device)\n",
    "    print(f\"Compute Capability: {compute_capability}\")\n",
    "\n",
    "    if compute_capability[0] >= 7:  # Tensor Cores require Compute Capability 7.0+\n",
    "        print(\"✅ Your GPU supports Mixed Precision Training (AMP)!\")\n",
    "    else:\n",
    "        print(\"❌ Your GPU does NOT fully support Mixed Precision Training.\")\n",
    "else:\n",
    "    print(\"❌ CUDA is not available. Running on CPU.\")"
   ]
  },
  {
   "cell_type": "code",
   "execution_count": 3,
   "metadata": {},
   "outputs": [],
   "source": [
    "# Define custom dataset path and constants\n",
    "data_dir = 'C:/Dhika TA/clahe-dataset (split)'  # Replace with your dataset path\n",
    "num_classes = 3 # Three classes because of only three grades\n",
    "batch_size = 8 # Sets the number of images per batch. High number uses more memory and allows less chances for model to update gradients\n",
    "num_epochs = 50\n",
    "learning_rate = 0.001 # Sets the initial learning rate that causes the model to update gradients.\n",
    "top_k = 3  # For top-k accuracy\n",
    "\n",
    "# Define checkpoint directory\n",
    "checkpoint_dir = 'checkpoints'\n",
    "os.makedirs(checkpoint_dir, exist_ok=True)"
   ]
  },
  {
   "cell_type": "markdown",
   "metadata": {},
   "source": [
    "Dataset Management"
   ]
  },
  {
   "cell_type": "code",
   "execution_count": 4,
   "metadata": {},
   "outputs": [],
   "source": [
    "# Data transformations\n",
    "train_transforms = transforms.Compose([\n",
    "    transforms.Resize((480, 480)),\n",
    "    transforms.ToTensor(),\n",
    "    transforms.Normalize([0.485, 0.456, 0.406], [0.229, 0.224, 0.225])\n",
    "])\n",
    "\n",
    "val_transforms = transforms.Compose([\n",
    "    transforms.Resize((480, 480)),\n",
    "    transforms.ToTensor(),\n",
    "    transforms.Normalize([0.485, 0.456, 0.406], [0.229, 0.224, 0.225])\n",
    "])\n",
    "\n",
    "test_transforms = transforms.Compose([\n",
    "    transforms.Resize((480, 480)),\n",
    "    transforms.ToTensor(),\n",
    "    transforms.Normalize([0.485, 0.456, 0.406], [0.229, 0.224, 0.225])\n",
    "])\n",
    "\n",
    "# Load datasets\n",
    "train_dataset = datasets.ImageFolder(root=f'{data_dir}/train', transform=train_transforms)\n",
    "val_dataset = datasets.ImageFolder(root=f'{data_dir}/val', transform=val_transforms)\n",
    "test_dataset = datasets.ImageFolder(root=f'{data_dir}/test', transform=test_transforms)\n",
    "\n",
    "train_loader = DataLoader(train_dataset, batch_size=batch_size, shuffle=True, num_workers=4, pin_memory=True)\n",
    "val_loader = DataLoader(val_dataset, batch_size=batch_size, shuffle=False, num_workers=4, pin_memory=True)\n",
    "test_loader = DataLoader(test_dataset, batch_size=batch_size, shuffle=False)"
   ]
  },
  {
   "cell_type": "markdown",
   "metadata": {},
   "source": [
    "Loading Model"
   ]
  },
  {
   "cell_type": "code",
   "execution_count": 5,
   "metadata": {},
   "outputs": [
    {
     "name": "stdout",
     "output_type": "stream",
     "text": [
      "Model is on: cuda:0\n"
     ]
    }
   ],
   "source": [
    "# Load EfficientNet V2\n",
    "device = torch.device('cuda' if torch.cuda.is_available() else 'cpu')\n",
    "model = models.efficientnet_v2_m(weights='IMAGENET1K_V1')\n",
    "\n",
    "# Get input features from the last layer\n",
    "in_features = model.classifier[1].in_features  # Extracts 1280 features\n",
    "model.classifier = nn.Sequential(\n",
    "    # nn.Dropout(p=0.4),  # Increased dropout (try between 0.3 - 0.5)\n",
    "    nn.Linear(in_features, num_classes)  # Adjust to your number of classes\n",
    ")\n",
    "\n",
    "model = model.to(device)\n",
    "\n",
    "# Enable Torch 2.0 compilation for faster training\n",
    "# model = torch.compile(model)\n",
    "\n",
    "# Define loss function, optimizer, and scheduler\n",
    "criterion = nn.CrossEntropyLoss()\n",
    "optimizer = optim.Adam(model.parameters(), lr=learning_rate)\n",
    "# optimizer = optim.AdamW(model.parameters(), lr=learning_rate, weight_decay=1e-4)\n",
    "# optimizer = optim.SGD(model.parameters(), lr=learning_rate, momentum=0.9, weight_decay=1e-4)\n",
    "# scheduler = torch.optim.lr_scheduler.CosineAnnealingLR(optimizer, T_max=num_epochs, eta_min=1e-6)\n",
    "# scheduler = torch.optim.lr_scheduler.ReduceLROnPlateau(optimizer, mode='min', factor=0.5, patience=3, verbose=True)\n",
    "scheduler = torch.optim.lr_scheduler.CyclicLR(\n",
    "    optimizer,\n",
    "    base_lr=1e-5,  # Minimum LR\n",
    "    max_lr=1e-3,   # Maximum LR\n",
    "    step_size_up=10,\n",
    "    mode=\"triangular2\"\n",
    ")\n",
    "\n",
    "print(\"Model is on:\", next(model.parameters()).device)"
   ]
  },
  {
   "cell_type": "markdown",
   "metadata": {},
   "source": [
    "Initial Variables"
   ]
  },
  {
   "cell_type": "code",
   "execution_count": 6,
   "metadata": {},
   "outputs": [],
   "source": [
    "# Training and validation\n",
    "best_val_accuracy = 0.0\n",
    "class_names = train_dataset.classes\n",
    "\n",
    "# Metrics for plotting\n",
    "train_accuracies = []\n",
    "val_accuracies = []\n",
    "top_k_accuracies = []\n",
    "\n",
    "torch.cuda.empty_cache()"
   ]
  },
  {
   "cell_type": "markdown",
   "metadata": {},
   "source": [
    "Helper Functions"
   ]
  },
  {
   "cell_type": "code",
   "execution_count": 7,
   "metadata": {},
   "outputs": [],
   "source": [
    "# Function to save checkpoint\n",
    "def save_checkpoint(epoch, model, optimizer, scheduler, best_val_accuracy, filename='checkpoint.pth'):\n",
    "    checkpoint = {\n",
    "        'epoch': epoch,\n",
    "        'model_state_dict': model.state_dict(),\n",
    "        'optimizer_state_dict': optimizer.state_dict(),\n",
    "        'scheduler_state_dict': scheduler.state_dict(),\n",
    "        'best_val_accuracy': best_val_accuracy,\n",
    "        'train_accuracies': train_accuracies,\n",
    "        'val_accuracies': val_accuracies,\n",
    "        'top_k_accuracies': top_k_accuracies\n",
    "    }\n",
    "    torch.save(checkpoint, os.path.join(checkpoint_dir, filename))\n",
    "\n",
    "# Function to load checkpoint\n",
    "def load_checkpoint(model, optimizer, scheduler, filename='checkpoint.pth'):\n",
    "    checkpoint = torch.load(os.path.join(checkpoint_dir, filename))\n",
    "    model.load_state_dict(checkpoint['model_state_dict'])\n",
    "    optimizer.load_state_dict(checkpoint['optimizer_state_dict'])\n",
    "    scheduler.load_state_dict(checkpoint['scheduler_state_dict'])\n",
    "    epoch = checkpoint['epoch']\n",
    "    best_val_accuracy = checkpoint['best_val_accuracy']\n",
    "    train_accuracies = checkpoint['train_accuracies']\n",
    "    val_accuracies = checkpoint['val_accuracies']\n",
    "    top_k_accuracies = checkpoint['top_k_accuracies']\n",
    "    return epoch, best_val_accuracy, train_accuracies, val_accuracies, top_k_accuracies\n",
    "\n",
    "def calculate_metrics(y_true, y_pred, class_names):\n",
    "    conf_matrix = confusion_matrix(y_true, y_pred)\n",
    "    accuracy = accuracy_score(y_true, y_pred)\n",
    "    report = classification_report(y_true, y_pred, target_names=class_names)\n",
    "    return conf_matrix, accuracy, report\n",
    "\n",
    "def top_k_accuracy(output, target, k=3):\n",
    "    with torch.no_grad():\n",
    "        _, pred = output.topk(k, dim=1)\n",
    "        correct = pred.eq(target.view(-1, 1).expand_as(pred))\n",
    "        return correct.sum().item() / target.size(0)"
   ]
  },
  {
   "cell_type": "markdown",
   "metadata": {},
   "source": [
    "Checkpointing"
   ]
  },
  {
   "cell_type": "code",
   "execution_count": 8,
   "metadata": {},
   "outputs": [
    {
     "name": "stdout",
     "output_type": "stream",
     "text": [
      "No checkpoint found. Starting training from scratch.\n",
      "No checkpoint or model found. Starting training from scratch.\n"
     ]
    }
   ],
   "source": [
    "# Check if a checkpoint exists and load it\n",
    "checkpoint_filename = 'checkpoint.pth'\n",
    "start_epoch = 0\n",
    "if os.path.exists(os.path.join(checkpoint_dir, checkpoint_filename)):\n",
    "    print(\"Loading checkpoint...\")\n",
    "    start_epoch, best_val_accuracy, train_accuracies, val_accuracies, top_k_accuracies = load_checkpoint(model, optimizer, scheduler, checkpoint_filename)\n",
    "    print(f\"Resuming training from epoch {start_epoch + 1}\")\n",
    "else:\n",
    "    print(\"No checkpoint found. Starting training from scratch.\")\n",
    "\n",
    "# Check if best_model.pth or last_model.pth exists\n",
    "best_model_path = 'best_model.pth'\n",
    "last_model_path = 'last_model.pth'\n",
    "\n",
    "if os.path.exists(best_model_path):\n",
    "    print(\"Loading best model...\")\n",
    "    model.load_state_dict(torch.load(best_model_path))\n",
    "    print(\"Resuming training from the best model.\")\n",
    "elif os.path.exists(last_model_path):\n",
    "    print(\"Loading last model...\")\n",
    "    model.load_state_dict(torch.load(last_model_path))\n",
    "    print(\"Resuming training from the last model.\")\n",
    "elif os.path.exists(os.path.join(checkpoint_dir, checkpoint_filename)):\n",
    "    print(\"Loading checkpoint...\")\n",
    "    start_epoch, best_val_accuracy, train_accuracies, val_accuracies, top_k_accuracies = load_checkpoint(model, optimizer, scheduler, checkpoint_filename)\n",
    "    print(f\"Resuming training from epoch {start_epoch + 1}\")\n",
    "else:\n",
    "    print(\"No checkpoint or model found. Starting training from scratch.\")\n"
   ]
  },
  {
   "cell_type": "markdown",
   "metadata": {},
   "source": [
    "Training and Validation Loops"
   ]
  },
  {
   "cell_type": "code",
   "execution_count": null,
   "metadata": {},
   "outputs": [
    {
     "name": "stderr",
     "output_type": "stream",
     "text": [
      "Epoch 1/50 - Training: 100%|██████████| 1260/1260 [03:49<00:00,  5.48it/s]\n"
     ]
    },
    {
     "name": "stdout",
     "output_type": "stream",
     "text": [
      "Training Loss: 0.9226, Training Accuracy: 0.5566\n"
     ]
    },
    {
     "name": "stderr",
     "output_type": "stream",
     "text": [
      "Epoch 1/50 - Validation: 100%|██████████| 158/158 [00:30<00:00,  5.14it/s]\n"
     ]
    },
    {
     "name": "stdout",
     "output_type": "stream",
     "text": [
      "Validation Loss: 0.6593, Validation Accuracy: 0.7177, Top-3 Accuracy: 1.0000\n",
      "Classification Report:\n",
      "               precision    recall  f1-score   support\n",
      "\n",
      "     Grade A       0.66      0.69      0.67       418\n",
      "     Grade B       0.66      0.72      0.69       422\n",
      "     Grade C       0.86      0.75      0.80       421\n",
      "\n",
      "    accuracy                           0.72      1261\n",
      "   macro avg       0.73      0.72      0.72      1261\n",
      "weighted avg       0.73      0.72      0.72      1261\n",
      "\n",
      "Saved Best Model\n",
      "Checkpoint saved at epoch 1\n"
     ]
    },
    {
     "name": "stderr",
     "output_type": "stream",
     "text": [
      "Epoch 2/50 - Training: 100%|██████████| 1260/1260 [03:41<00:00,  5.68it/s]\n"
     ]
    },
    {
     "name": "stdout",
     "output_type": "stream",
     "text": [
      "Training Loss: 0.5397, Training Accuracy: 0.7830\n"
     ]
    },
    {
     "name": "stderr",
     "output_type": "stream",
     "text": [
      "Epoch 2/50 - Validation: 100%|██████████| 158/158 [00:29<00:00,  5.33it/s]\n"
     ]
    },
    {
     "name": "stdout",
     "output_type": "stream",
     "text": [
      "Validation Loss: 0.6004, Validation Accuracy: 0.8898, Top-3 Accuracy: 1.0000\n",
      "Classification Report:\n",
      "               precision    recall  f1-score   support\n",
      "\n",
      "     Grade A       0.82      0.95      0.88       418\n",
      "     Grade B       0.91      0.81      0.86       422\n",
      "     Grade C       0.96      0.91      0.93       421\n",
      "\n",
      "    accuracy                           0.89      1261\n",
      "   macro avg       0.90      0.89      0.89      1261\n",
      "weighted avg       0.90      0.89      0.89      1261\n",
      "\n",
      "Saved Best Model\n",
      "Checkpoint saved at epoch 2\n"
     ]
    },
    {
     "name": "stderr",
     "output_type": "stream",
     "text": [
      "Epoch 3/50 - Training: 100%|██████████| 1260/1260 [03:42<00:00,  5.65it/s]\n"
     ]
    },
    {
     "name": "stdout",
     "output_type": "stream",
     "text": [
      "Training Loss: 0.3767, Training Accuracy: 0.8616\n"
     ]
    },
    {
     "name": "stderr",
     "output_type": "stream",
     "text": [
      "Epoch 3/50 - Validation: 100%|██████████| 158/158 [00:29<00:00,  5.28it/s]\n"
     ]
    },
    {
     "name": "stdout",
     "output_type": "stream",
     "text": [
      "Validation Loss: 3.6278, Validation Accuracy: 0.8874, Top-3 Accuracy: 1.0000\n",
      "Classification Report:\n",
      "               precision    recall  f1-score   support\n",
      "\n",
      "     Grade A       0.83      0.93      0.88       418\n",
      "     Grade B       0.91      0.81      0.86       422\n",
      "     Grade C       0.93      0.92      0.93       421\n",
      "\n",
      "    accuracy                           0.89      1261\n",
      "   macro avg       0.89      0.89      0.89      1261\n",
      "weighted avg       0.89      0.89      0.89      1261\n",
      "\n",
      "Checkpoint saved at epoch 3\n"
     ]
    },
    {
     "name": "stderr",
     "output_type": "stream",
     "text": [
      "Epoch 4/50 - Training: 100%|██████████| 1260/1260 [03:41<00:00,  5.68it/s]\n"
     ]
    },
    {
     "name": "stdout",
     "output_type": "stream",
     "text": [
      "Training Loss: 0.5737, Training Accuracy: 0.7736\n"
     ]
    },
    {
     "name": "stderr",
     "output_type": "stream",
     "text": [
      "Epoch 4/50 - Validation: 100%|██████████| 158/158 [00:30<00:00,  5.16it/s]\n"
     ]
    },
    {
     "name": "stdout",
     "output_type": "stream",
     "text": [
      "Validation Loss: 1.7448, Validation Accuracy: 0.8057, Top-3 Accuracy: 1.0000\n",
      "Classification Report:\n",
      "               precision    recall  f1-score   support\n",
      "\n",
      "     Grade A       0.89      0.60      0.72       418\n",
      "     Grade B       0.68      0.92      0.79       422\n",
      "     Grade C       0.92      0.89      0.91       421\n",
      "\n",
      "    accuracy                           0.81      1261\n",
      "   macro avg       0.83      0.81      0.80      1261\n",
      "weighted avg       0.83      0.81      0.80      1261\n",
      "\n",
      "Checkpoint saved at epoch 4\n"
     ]
    },
    {
     "name": "stderr",
     "output_type": "stream",
     "text": [
      "Epoch 5/50 - Training: 100%|██████████| 1260/1260 [03:41<00:00,  5.68it/s]\n"
     ]
    },
    {
     "name": "stdout",
     "output_type": "stream",
     "text": [
      "Training Loss: 0.3394, Training Accuracy: 0.8859\n"
     ]
    },
    {
     "name": "stderr",
     "output_type": "stream",
     "text": [
      "Epoch 5/50 - Validation: 100%|██████████| 158/158 [00:30<00:00,  5.20it/s]\n"
     ]
    },
    {
     "name": "stdout",
     "output_type": "stream",
     "text": [
      "Validation Loss: 0.4466, Validation Accuracy: 0.8787, Top-3 Accuracy: 1.0000\n",
      "Classification Report:\n",
      "               precision    recall  f1-score   support\n",
      "\n",
      "     Grade A       0.86      0.86      0.86       418\n",
      "     Grade B       0.86      0.82      0.84       422\n",
      "     Grade C       0.91      0.96      0.94       421\n",
      "\n",
      "    accuracy                           0.88      1261\n",
      "   macro avg       0.88      0.88      0.88      1261\n",
      "weighted avg       0.88      0.88      0.88      1261\n",
      "\n",
      "Checkpoint saved at epoch 5\n"
     ]
    },
    {
     "name": "stderr",
     "output_type": "stream",
     "text": [
      "Epoch 6/50 - Training: 100%|██████████| 1260/1260 [03:41<00:00,  5.69it/s]\n"
     ]
    },
    {
     "name": "stdout",
     "output_type": "stream",
     "text": [
      "Training Loss: 0.3942, Training Accuracy: 0.8632\n"
     ]
    },
    {
     "name": "stderr",
     "output_type": "stream",
     "text": [
      "Epoch 6/50 - Validation: 100%|██████████| 158/158 [00:30<00:00,  5.24it/s]\n"
     ]
    },
    {
     "name": "stdout",
     "output_type": "stream",
     "text": [
      "Validation Loss: 0.4509, Validation Accuracy: 0.8414, Top-3 Accuracy: 1.0000\n",
      "Classification Report:\n",
      "               precision    recall  f1-score   support\n",
      "\n",
      "     Grade A       0.87      0.78      0.83       418\n",
      "     Grade B       0.73      0.91      0.81       422\n",
      "     Grade C       0.97      0.83      0.90       421\n",
      "\n",
      "    accuracy                           0.84      1261\n",
      "   macro avg       0.86      0.84      0.84      1261\n",
      "weighted avg       0.86      0.84      0.84      1261\n",
      "\n",
      "Checkpoint saved at epoch 6\n"
     ]
    },
    {
     "name": "stderr",
     "output_type": "stream",
     "text": [
      "Epoch 7/50 - Training: 100%|██████████| 1260/1260 [03:41<00:00,  5.68it/s]\n"
     ]
    },
    {
     "name": "stdout",
     "output_type": "stream",
     "text": [
      "Training Loss: 0.4230, Training Accuracy: 0.8504\n"
     ]
    },
    {
     "name": "stderr",
     "output_type": "stream",
     "text": [
      "Epoch 7/50 - Validation: 100%|██████████| 158/158 [00:30<00:00,  5.21it/s]\n"
     ]
    },
    {
     "name": "stdout",
     "output_type": "stream",
     "text": [
      "Validation Loss: 0.2910, Validation Accuracy: 0.8874, Top-3 Accuracy: 1.0000\n",
      "Classification Report:\n",
      "               precision    recall  f1-score   support\n",
      "\n",
      "     Grade A       0.90      0.86      0.88       418\n",
      "     Grade B       0.87      0.86      0.86       422\n",
      "     Grade C       0.88      0.95      0.92       421\n",
      "\n",
      "    accuracy                           0.89      1261\n",
      "   macro avg       0.89      0.89      0.89      1261\n",
      "weighted avg       0.89      0.89      0.89      1261\n",
      "\n",
      "Checkpoint saved at epoch 7\n"
     ]
    },
    {
     "name": "stderr",
     "output_type": "stream",
     "text": [
      "Epoch 8/50 - Training: 100%|██████████| 1260/1260 [03:42<00:00,  5.67it/s]\n"
     ]
    },
    {
     "name": "stdout",
     "output_type": "stream",
     "text": [
      "Training Loss: 0.4243, Training Accuracy: 0.8499\n"
     ]
    },
    {
     "name": "stderr",
     "output_type": "stream",
     "text": [
      "Epoch 8/50 - Validation: 100%|██████████| 158/158 [00:30<00:00,  5.21it/s]\n"
     ]
    },
    {
     "name": "stdout",
     "output_type": "stream",
     "text": [
      "Validation Loss: 0.5106, Validation Accuracy: 0.8136, Top-3 Accuracy: 1.0000\n",
      "Classification Report:\n",
      "               precision    recall  f1-score   support\n",
      "\n",
      "     Grade A       0.72      0.91      0.80       418\n",
      "     Grade B       0.82      0.63      0.72       422\n",
      "     Grade C       0.93      0.90      0.91       421\n",
      "\n",
      "    accuracy                           0.81      1261\n",
      "   macro avg       0.82      0.81      0.81      1261\n",
      "weighted avg       0.82      0.81      0.81      1261\n",
      "\n",
      "Checkpoint saved at epoch 8\n"
     ]
    },
    {
     "name": "stderr",
     "output_type": "stream",
     "text": [
      "Epoch 9/50 - Training: 100%|██████████| 1260/1260 [03:41<00:00,  5.68it/s]\n"
     ]
    },
    {
     "name": "stdout",
     "output_type": "stream",
     "text": [
      "Training Loss: 0.4313, Training Accuracy: 0.8456\n"
     ]
    },
    {
     "name": "stderr",
     "output_type": "stream",
     "text": [
      "Epoch 9/50 - Validation: 100%|██████████| 158/158 [00:30<00:00,  5.14it/s]\n"
     ]
    },
    {
     "name": "stdout",
     "output_type": "stream",
     "text": [
      "Validation Loss: 0.7581, Validation Accuracy: 0.7811, Top-3 Accuracy: 1.0000\n",
      "Classification Report:\n",
      "               precision    recall  f1-score   support\n",
      "\n",
      "     Grade A       0.80      0.72      0.76       418\n",
      "     Grade B       0.74      0.72      0.73       422\n",
      "     Grade C       0.80      0.90      0.85       421\n",
      "\n",
      "    accuracy                           0.78      1261\n",
      "   macro avg       0.78      0.78      0.78      1261\n",
      "weighted avg       0.78      0.78      0.78      1261\n",
      "\n",
      "Checkpoint saved at epoch 9\n"
     ]
    },
    {
     "name": "stderr",
     "output_type": "stream",
     "text": [
      "Epoch 10/50 - Training: 100%|██████████| 1260/1260 [03:41<00:00,  5.68it/s]\n"
     ]
    },
    {
     "name": "stdout",
     "output_type": "stream",
     "text": [
      "Training Loss: 0.6033, Training Accuracy: 0.7622\n"
     ]
    },
    {
     "name": "stderr",
     "output_type": "stream",
     "text": [
      "Epoch 10/50 - Validation: 100%|██████████| 158/158 [00:30<00:00,  5.21it/s]\n"
     ]
    },
    {
     "name": "stdout",
     "output_type": "stream",
     "text": [
      "Validation Loss: 0.5551, Validation Accuracy: 0.7803, Top-3 Accuracy: 1.0000\n",
      "Classification Report:\n",
      "               precision    recall  f1-score   support\n",
      "\n",
      "     Grade A       0.78      0.71      0.74       418\n",
      "     Grade B       0.69      0.79      0.73       422\n",
      "     Grade C       0.89      0.85      0.87       421\n",
      "\n",
      "    accuracy                           0.78      1261\n",
      "   macro avg       0.79      0.78      0.78      1261\n",
      "weighted avg       0.79      0.78      0.78      1261\n",
      "\n",
      "Checkpoint saved at epoch 10\n"
     ]
    },
    {
     "name": "stderr",
     "output_type": "stream",
     "text": [
      "Epoch 11/50 - Training: 100%|██████████| 1260/1260 [03:41<00:00,  5.68it/s]\n"
     ]
    },
    {
     "name": "stdout",
     "output_type": "stream",
     "text": [
      "Training Loss: 0.3534, Training Accuracy: 0.8764\n"
     ]
    },
    {
     "name": "stderr",
     "output_type": "stream",
     "text": [
      "Epoch 11/50 - Validation: 100%|██████████| 158/158 [00:30<00:00,  5.23it/s]\n"
     ]
    },
    {
     "name": "stdout",
     "output_type": "stream",
     "text": [
      "Validation Loss: 0.6242, Validation Accuracy: 0.8033, Top-3 Accuracy: 1.0000\n",
      "Classification Report:\n",
      "               precision    recall  f1-score   support\n",
      "\n",
      "     Grade A       0.78      0.85      0.81       418\n",
      "     Grade B       0.89      0.62      0.73       422\n",
      "     Grade C       0.78      0.94      0.85       421\n",
      "\n",
      "    accuracy                           0.80      1261\n",
      "   macro avg       0.81      0.80      0.80      1261\n",
      "weighted avg       0.82      0.80      0.80      1261\n",
      "\n",
      "Checkpoint saved at epoch 11\n"
     ]
    },
    {
     "name": "stderr",
     "output_type": "stream",
     "text": [
      "Epoch 12/50 - Training: 100%|██████████| 1260/1260 [03:41<00:00,  5.69it/s]\n"
     ]
    },
    {
     "name": "stdout",
     "output_type": "stream",
     "text": [
      "Training Loss: 0.3614, Training Accuracy: 0.8762\n"
     ]
    },
    {
     "name": "stderr",
     "output_type": "stream",
     "text": [
      "Epoch 12/50 - Validation: 100%|██████████| 158/158 [00:29<00:00,  5.29it/s]\n"
     ]
    },
    {
     "name": "stdout",
     "output_type": "stream",
     "text": [
      "Validation Loss: 0.3678, Validation Accuracy: 0.8818, Top-3 Accuracy: 1.0000\n",
      "Classification Report:\n",
      "               precision    recall  f1-score   support\n",
      "\n",
      "     Grade A       0.88      0.86      0.87       418\n",
      "     Grade B       0.89      0.81      0.85       422\n",
      "     Grade C       0.88      0.97      0.92       421\n",
      "\n",
      "    accuracy                           0.88      1261\n",
      "   macro avg       0.88      0.88      0.88      1261\n",
      "weighted avg       0.88      0.88      0.88      1261\n",
      "\n",
      "Checkpoint saved at epoch 12\n"
     ]
    },
    {
     "name": "stderr",
     "output_type": "stream",
     "text": [
      "Epoch 13/50 - Training: 100%|██████████| 1260/1260 [03:41<00:00,  5.68it/s]\n"
     ]
    },
    {
     "name": "stdout",
     "output_type": "stream",
     "text": [
      "Training Loss: 0.3537, Training Accuracy: 0.9025\n"
     ]
    },
    {
     "name": "stderr",
     "output_type": "stream",
     "text": [
      "Epoch 13/50 - Validation: 100%|██████████| 158/158 [00:30<00:00,  5.18it/s]\n"
     ]
    },
    {
     "name": "stdout",
     "output_type": "stream",
     "text": [
      "Validation Loss: 0.5946, Validation Accuracy: 0.8525, Top-3 Accuracy: 1.0000\n",
      "Classification Report:\n",
      "               precision    recall  f1-score   support\n",
      "\n",
      "     Grade A       0.95      0.70      0.80       418\n",
      "     Grade B       0.81      0.87      0.84       422\n",
      "     Grade C       0.83      0.99      0.90       421\n",
      "\n",
      "    accuracy                           0.85      1261\n",
      "   macro avg       0.86      0.85      0.85      1261\n",
      "weighted avg       0.86      0.85      0.85      1261\n",
      "\n",
      "Checkpoint saved at epoch 13\n"
     ]
    },
    {
     "name": "stderr",
     "output_type": "stream",
     "text": [
      "Epoch 14/50 - Training: 100%|██████████| 1260/1260 [03:41<00:00,  5.68it/s]\n"
     ]
    },
    {
     "name": "stdout",
     "output_type": "stream",
     "text": [
      "Training Loss: 0.4079, Training Accuracy: 0.8952\n"
     ]
    },
    {
     "name": "stderr",
     "output_type": "stream",
     "text": [
      "Epoch 14/50 - Validation: 100%|██████████| 158/158 [00:30<00:00,  5.24it/s]\n"
     ]
    },
    {
     "name": "stdout",
     "output_type": "stream",
     "text": [
      "Validation Loss: 0.6443, Validation Accuracy: 0.8303, Top-3 Accuracy: 1.0000\n",
      "Classification Report:\n",
      "               precision    recall  f1-score   support\n",
      "\n",
      "     Grade A       0.94      0.62      0.75       418\n",
      "     Grade B       0.71      0.91      0.80       422\n",
      "     Grade C       0.91      0.96      0.93       421\n",
      "\n",
      "    accuracy                           0.83      1261\n",
      "   macro avg       0.85      0.83      0.83      1261\n",
      "weighted avg       0.85      0.83      0.83      1261\n",
      "\n",
      "Checkpoint saved at epoch 14\n"
     ]
    },
    {
     "name": "stderr",
     "output_type": "stream",
     "text": [
      "Epoch 15/50 - Training: 100%|██████████| 1260/1260 [03:42<00:00,  5.67it/s]\n"
     ]
    },
    {
     "name": "stdout",
     "output_type": "stream",
     "text": [
      "Training Loss: 0.3582, Training Accuracy: 0.9212\n"
     ]
    },
    {
     "name": "stderr",
     "output_type": "stream",
     "text": [
      "Epoch 15/50 - Validation: 100%|██████████| 158/158 [00:30<00:00,  5.19it/s]\n"
     ]
    },
    {
     "name": "stdout",
     "output_type": "stream",
     "text": [
      "Validation Loss: 0.9509, Validation Accuracy: 0.8953, Top-3 Accuracy: 1.0000\n",
      "Classification Report:\n",
      "               precision    recall  f1-score   support\n",
      "\n",
      "     Grade A       0.83      0.91      0.87       418\n",
      "     Grade B       0.92      0.80      0.86       422\n",
      "     Grade C       0.94      0.97      0.96       421\n",
      "\n",
      "    accuracy                           0.90      1261\n",
      "   macro avg       0.90      0.90      0.89      1261\n",
      "weighted avg       0.90      0.90      0.89      1261\n",
      "\n",
      "Saved Best Model\n",
      "Checkpoint saved at epoch 15\n"
     ]
    },
    {
     "name": "stderr",
     "output_type": "stream",
     "text": [
      "Epoch 16/50 - Training: 100%|██████████| 1260/1260 [03:41<00:00,  5.69it/s]\n"
     ]
    },
    {
     "name": "stdout",
     "output_type": "stream",
     "text": [
      "Training Loss: 0.3384, Training Accuracy: 0.9563\n"
     ]
    },
    {
     "name": "stderr",
     "output_type": "stream",
     "text": [
      "Epoch 16/50 - Validation: 100%|██████████| 158/158 [00:30<00:00,  5.22it/s]\n"
     ]
    },
    {
     "name": "stdout",
     "output_type": "stream",
     "text": [
      "Validation Loss: 1.1363, Validation Accuracy: 0.9025, Top-3 Accuracy: 1.0000\n",
      "Classification Report:\n",
      "               precision    recall  f1-score   support\n",
      "\n",
      "     Grade A       0.82      0.97      0.89       418\n",
      "     Grade B       0.92      0.82      0.87       422\n",
      "     Grade C       0.99      0.92      0.95       421\n",
      "\n",
      "    accuracy                           0.90      1261\n",
      "   macro avg       0.91      0.90      0.90      1261\n",
      "weighted avg       0.91      0.90      0.90      1261\n",
      "\n",
      "Saved Best Model\n",
      "Checkpoint saved at epoch 16\n"
     ]
    },
    {
     "name": "stderr",
     "output_type": "stream",
     "text": [
      "Epoch 17/50 - Training: 100%|██████████| 1260/1260 [03:42<00:00,  5.67it/s]\n"
     ]
    },
    {
     "name": "stdout",
     "output_type": "stream",
     "text": [
      "Training Loss: 0.2027, Training Accuracy: 0.9771\n"
     ]
    },
    {
     "name": "stderr",
     "output_type": "stream",
     "text": [
      "Epoch 17/50 - Validation: 100%|██████████| 158/158 [00:30<00:00,  5.25it/s]\n"
     ]
    },
    {
     "name": "stdout",
     "output_type": "stream",
     "text": [
      "Validation Loss: 0.8325, Validation Accuracy: 0.9326, Top-3 Accuracy: 1.0000\n",
      "Classification Report:\n",
      "               precision    recall  f1-score   support\n",
      "\n",
      "     Grade A       0.94      0.89      0.91       418\n",
      "     Grade B       0.90      0.92      0.91       422\n",
      "     Grade C       0.96      0.99      0.97       421\n",
      "\n",
      "    accuracy                           0.93      1261\n",
      "   macro avg       0.93      0.93      0.93      1261\n",
      "weighted avg       0.93      0.93      0.93      1261\n",
      "\n",
      "Saved Best Model\n",
      "Checkpoint saved at epoch 17\n"
     ]
    },
    {
     "name": "stderr",
     "output_type": "stream",
     "text": [
      "Epoch 18/50 - Training: 100%|██████████| 1260/1260 [03:40<00:00,  5.70it/s]\n"
     ]
    },
    {
     "name": "stdout",
     "output_type": "stream",
     "text": [
      "Training Loss: 0.1971, Training Accuracy: 0.9792\n"
     ]
    },
    {
     "name": "stderr",
     "output_type": "stream",
     "text": [
      "Epoch 18/50 - Validation: 100%|██████████| 158/158 [00:30<00:00,  5.27it/s]\n"
     ]
    },
    {
     "name": "stdout",
     "output_type": "stream",
     "text": [
      "Validation Loss: 0.9957, Validation Accuracy: 0.9286, Top-3 Accuracy: 1.0000\n",
      "Classification Report:\n",
      "               precision    recall  f1-score   support\n",
      "\n",
      "     Grade A       0.92      0.92      0.92       418\n",
      "     Grade B       0.92      0.88      0.90       422\n",
      "     Grade C       0.94      0.99      0.97       421\n",
      "\n",
      "    accuracy                           0.93      1261\n",
      "   macro avg       0.93      0.93      0.93      1261\n",
      "weighted avg       0.93      0.93      0.93      1261\n",
      "\n",
      "Checkpoint saved at epoch 18\n"
     ]
    },
    {
     "name": "stderr",
     "output_type": "stream",
     "text": [
      "Epoch 19/50 - Training: 100%|██████████| 1260/1260 [03:41<00:00,  5.70it/s]\n"
     ]
    },
    {
     "name": "stdout",
     "output_type": "stream",
     "text": [
      "Training Loss: 0.1161, Training Accuracy: 0.9853\n"
     ]
    },
    {
     "name": "stderr",
     "output_type": "stream",
     "text": [
      "Epoch 19/50 - Validation: 100%|██████████| 158/158 [00:30<00:00,  5.12it/s]\n"
     ]
    },
    {
     "name": "stdout",
     "output_type": "stream",
     "text": [
      "Validation Loss: 0.7896, Validation Accuracy: 0.9485, Top-3 Accuracy: 1.0000\n",
      "Classification Report:\n",
      "               precision    recall  f1-score   support\n",
      "\n",
      "     Grade A       0.94      0.94      0.94       418\n",
      "     Grade B       0.94      0.92      0.93       422\n",
      "     Grade C       0.97      0.99      0.98       421\n",
      "\n",
      "    accuracy                           0.95      1261\n",
      "   macro avg       0.95      0.95      0.95      1261\n",
      "weighted avg       0.95      0.95      0.95      1261\n",
      "\n",
      "Saved Best Model\n",
      "Checkpoint saved at epoch 19\n"
     ]
    },
    {
     "name": "stderr",
     "output_type": "stream",
     "text": [
      "Epoch 20/50 - Training: 100%|██████████| 1260/1260 [03:41<00:00,  5.68it/s]\n"
     ]
    },
    {
     "name": "stdout",
     "output_type": "stream",
     "text": [
      "Training Loss: 0.0404, Training Accuracy: 0.9934\n"
     ]
    },
    {
     "name": "stderr",
     "output_type": "stream",
     "text": [
      "Epoch 20/50 - Validation: 100%|██████████| 158/158 [00:30<00:00,  5.26it/s]\n"
     ]
    },
    {
     "name": "stdout",
     "output_type": "stream",
     "text": [
      "Validation Loss: 0.7173, Validation Accuracy: 0.9603, Top-3 Accuracy: 1.0000\n",
      "Classification Report:\n",
      "               precision    recall  f1-score   support\n",
      "\n",
      "     Grade A       0.94      0.96      0.95       418\n",
      "     Grade B       0.96      0.93      0.94       422\n",
      "     Grade C       0.99      0.99      0.99       421\n",
      "\n",
      "    accuracy                           0.96      1261\n",
      "   macro avg       0.96      0.96      0.96      1261\n",
      "weighted avg       0.96      0.96      0.96      1261\n",
      "\n",
      "Saved Best Model\n",
      "Checkpoint saved at epoch 20\n"
     ]
    },
    {
     "name": "stderr",
     "output_type": "stream",
     "text": [
      "Epoch 21/50 - Training: 100%|██████████| 1260/1260 [03:41<00:00,  5.68it/s]\n"
     ]
    },
    {
     "name": "stdout",
     "output_type": "stream",
     "text": [
      "Training Loss: 0.0187, Training Accuracy: 0.9959\n"
     ]
    },
    {
     "name": "stderr",
     "output_type": "stream",
     "text": [
      "Epoch 21/50 - Validation: 100%|██████████| 158/158 [00:30<00:00,  5.26it/s]\n"
     ]
    },
    {
     "name": "stdout",
     "output_type": "stream",
     "text": [
      "Validation Loss: 0.7127, Validation Accuracy: 0.9532, Top-3 Accuracy: 1.0000\n",
      "Classification Report:\n",
      "               precision    recall  f1-score   support\n",
      "\n",
      "     Grade A       0.92      0.96      0.94       418\n",
      "     Grade B       0.96      0.91      0.93       422\n",
      "     Grade C       0.98      0.99      0.98       421\n",
      "\n",
      "    accuracy                           0.95      1261\n",
      "   macro avg       0.95      0.95      0.95      1261\n",
      "weighted avg       0.95      0.95      0.95      1261\n",
      "\n",
      "Checkpoint saved at epoch 21\n"
     ]
    },
    {
     "name": "stderr",
     "output_type": "stream",
     "text": [
      "Epoch 22/50 - Training: 100%|██████████| 1260/1260 [03:41<00:00,  5.70it/s]\n"
     ]
    },
    {
     "name": "stdout",
     "output_type": "stream",
     "text": [
      "Training Loss: 0.0271, Training Accuracy: 0.9954\n"
     ]
    },
    {
     "name": "stderr",
     "output_type": "stream",
     "text": [
      "Epoch 22/50 - Validation: 100%|██████████| 158/158 [00:30<00:00,  5.25it/s]\n"
     ]
    },
    {
     "name": "stdout",
     "output_type": "stream",
     "text": [
      "Validation Loss: 0.6220, Validation Accuracy: 0.9540, Top-3 Accuracy: 1.0000\n",
      "Classification Report:\n",
      "               precision    recall  f1-score   support\n",
      "\n",
      "     Grade A       0.96      0.92      0.94       418\n",
      "     Grade B       0.93      0.95      0.94       422\n",
      "     Grade C       0.97      0.99      0.98       421\n",
      "\n",
      "    accuracy                           0.95      1261\n",
      "   macro avg       0.95      0.95      0.95      1261\n",
      "weighted avg       0.95      0.95      0.95      1261\n",
      "\n",
      "Checkpoint saved at epoch 22\n"
     ]
    },
    {
     "name": "stderr",
     "output_type": "stream",
     "text": [
      "Epoch 23/50 - Training: 100%|██████████| 1260/1260 [03:40<00:00,  5.71it/s]\n"
     ]
    },
    {
     "name": "stdout",
     "output_type": "stream",
     "text": [
      "Training Loss: 0.0178, Training Accuracy: 0.9972\n"
     ]
    },
    {
     "name": "stderr",
     "output_type": "stream",
     "text": [
      "Epoch 23/50 - Validation: 100%|██████████| 158/158 [00:30<00:00,  5.17it/s]\n"
     ]
    },
    {
     "name": "stdout",
     "output_type": "stream",
     "text": [
      "Validation Loss: 0.7696, Validation Accuracy: 0.9516, Top-3 Accuracy: 1.0000\n",
      "Classification Report:\n",
      "               precision    recall  f1-score   support\n",
      "\n",
      "     Grade A       0.94      0.94      0.94       418\n",
      "     Grade B       0.94      0.93      0.93       422\n",
      "     Grade C       0.97      0.99      0.98       421\n",
      "\n",
      "    accuracy                           0.95      1261\n",
      "   macro avg       0.95      0.95      0.95      1261\n",
      "weighted avg       0.95      0.95      0.95      1261\n",
      "\n",
      "Checkpoint saved at epoch 23\n"
     ]
    },
    {
     "name": "stderr",
     "output_type": "stream",
     "text": [
      "Epoch 24/50 - Training: 100%|██████████| 1260/1260 [03:40<00:00,  5.70it/s]\n"
     ]
    },
    {
     "name": "stdout",
     "output_type": "stream",
     "text": [
      "Training Loss: 0.0348, Training Accuracy: 0.9956\n"
     ]
    },
    {
     "name": "stderr",
     "output_type": "stream",
     "text": [
      "Epoch 24/50 - Validation: 100%|██████████| 158/158 [00:29<00:00,  5.28it/s]\n"
     ]
    },
    {
     "name": "stdout",
     "output_type": "stream",
     "text": [
      "Validation Loss: 0.6561, Validation Accuracy: 0.9572, Top-3 Accuracy: 1.0000\n",
      "Classification Report:\n",
      "               precision    recall  f1-score   support\n",
      "\n",
      "     Grade A       0.95      0.94      0.95       418\n",
      "     Grade B       0.95      0.94      0.94       422\n",
      "     Grade C       0.97      0.99      0.98       421\n",
      "\n",
      "    accuracy                           0.96      1261\n",
      "   macro avg       0.96      0.96      0.96      1261\n",
      "weighted avg       0.96      0.96      0.96      1261\n",
      "\n",
      "Checkpoint saved at epoch 24\n"
     ]
    },
    {
     "name": "stderr",
     "output_type": "stream",
     "text": [
      "Epoch 25/50 - Training: 100%|██████████| 1260/1260 [03:41<00:00,  5.68it/s]\n"
     ]
    },
    {
     "name": "stdout",
     "output_type": "stream",
     "text": [
      "Training Loss: 0.0368, Training Accuracy: 0.9952\n"
     ]
    },
    {
     "name": "stderr",
     "output_type": "stream",
     "text": [
      "Epoch 25/50 - Validation: 100%|██████████| 158/158 [00:30<00:00,  5.24it/s]\n"
     ]
    },
    {
     "name": "stdout",
     "output_type": "stream",
     "text": [
      "Validation Loss: 1.0329, Validation Accuracy: 0.9469, Top-3 Accuracy: 1.0000\n",
      "Classification Report:\n",
      "               precision    recall  f1-score   support\n",
      "\n",
      "     Grade A       0.91      0.96      0.93       418\n",
      "     Grade B       0.95      0.90      0.92       422\n",
      "     Grade C       0.98      0.98      0.98       421\n",
      "\n",
      "    accuracy                           0.95      1261\n",
      "   macro avg       0.95      0.95      0.95      1261\n",
      "weighted avg       0.95      0.95      0.95      1261\n",
      "\n",
      "Checkpoint saved at epoch 25\n"
     ]
    },
    {
     "name": "stderr",
     "output_type": "stream",
     "text": [
      "Epoch 26/50 - Training: 100%|██████████| 1260/1260 [03:41<00:00,  5.70it/s]\n"
     ]
    },
    {
     "name": "stdout",
     "output_type": "stream",
     "text": [
      "Training Loss: 0.1053, Training Accuracy: 0.9880\n"
     ]
    },
    {
     "name": "stderr",
     "output_type": "stream",
     "text": [
      "Epoch 26/50 - Validation: 100%|██████████| 158/158 [00:31<00:00,  4.95it/s]\n"
     ]
    },
    {
     "name": "stdout",
     "output_type": "stream",
     "text": [
      "Validation Loss: 0.8683, Validation Accuracy: 0.9397, Top-3 Accuracy: 1.0000\n",
      "Classification Report:\n",
      "               precision    recall  f1-score   support\n",
      "\n",
      "     Grade A       0.94      0.92      0.93       418\n",
      "     Grade B       0.93      0.91      0.92       422\n",
      "     Grade C       0.95      0.99      0.97       421\n",
      "\n",
      "    accuracy                           0.94      1261\n",
      "   macro avg       0.94      0.94      0.94      1261\n",
      "weighted avg       0.94      0.94      0.94      1261\n",
      "\n",
      "Checkpoint saved at epoch 26\n"
     ]
    },
    {
     "name": "stderr",
     "output_type": "stream",
     "text": [
      "Epoch 27/50 - Training: 100%|██████████| 1260/1260 [03:41<00:00,  5.70it/s]\n"
     ]
    },
    {
     "name": "stdout",
     "output_type": "stream",
     "text": [
      "Training Loss: 0.1697, Training Accuracy: 0.9822\n"
     ]
    },
    {
     "name": "stderr",
     "output_type": "stream",
     "text": [
      "Epoch 27/50 - Validation: 100%|██████████| 158/158 [00:29<00:00,  5.31it/s]\n"
     ]
    },
    {
     "name": "stdout",
     "output_type": "stream",
     "text": [
      "Validation Loss: 0.9020, Validation Accuracy: 0.9461, Top-3 Accuracy: 1.0000\n",
      "Classification Report:\n",
      "               precision    recall  f1-score   support\n",
      "\n",
      "     Grade A       0.91      0.97      0.94       418\n",
      "     Grade B       0.95      0.89      0.92       422\n",
      "     Grade C       0.99      0.98      0.98       421\n",
      "\n",
      "    accuracy                           0.95      1261\n",
      "   macro avg       0.95      0.95      0.95      1261\n",
      "weighted avg       0.95      0.95      0.95      1261\n",
      "\n",
      "Checkpoint saved at epoch 27\n"
     ]
    },
    {
     "name": "stderr",
     "output_type": "stream",
     "text": [
      "Epoch 28/50 - Training: 100%|██████████| 1260/1260 [03:41<00:00,  5.69it/s]\n"
     ]
    },
    {
     "name": "stdout",
     "output_type": "stream",
     "text": [
      "Training Loss: 0.1312, Training Accuracy: 0.9860\n"
     ]
    },
    {
     "name": "stderr",
     "output_type": "stream",
     "text": [
      "Epoch 28/50 - Validation: 100%|██████████| 158/158 [00:30<00:00,  5.25it/s]\n"
     ]
    },
    {
     "name": "stdout",
     "output_type": "stream",
     "text": [
      "Validation Loss: 1.5840, Validation Accuracy: 0.9144, Top-3 Accuracy: 1.0000\n",
      "Classification Report:\n",
      "               precision    recall  f1-score   support\n",
      "\n",
      "     Grade A       0.83      0.97      0.89       418\n",
      "     Grade B       0.95      0.82      0.88       422\n",
      "     Grade C       0.99      0.95      0.97       421\n",
      "\n",
      "    accuracy                           0.91      1261\n",
      "   macro avg       0.92      0.91      0.91      1261\n",
      "weighted avg       0.92      0.91      0.91      1261\n",
      "\n",
      "Checkpoint saved at epoch 28\n"
     ]
    },
    {
     "name": "stderr",
     "output_type": "stream",
     "text": [
      "Epoch 29/50 - Training: 100%|██████████| 1260/1260 [03:57<00:00,  5.32it/s]\n"
     ]
    },
    {
     "name": "stdout",
     "output_type": "stream",
     "text": [
      "Training Loss: 0.2097, Training Accuracy: 0.9782\n"
     ]
    },
    {
     "name": "stderr",
     "output_type": "stream",
     "text": [
      "Epoch 29/50 - Validation: 100%|██████████| 158/158 [00:30<00:00,  5.25it/s]\n"
     ]
    },
    {
     "name": "stdout",
     "output_type": "stream",
     "text": [
      "Validation Loss: 0.8985, Validation Accuracy: 0.9278, Top-3 Accuracy: 1.0000\n",
      "Classification Report:\n",
      "               precision    recall  f1-score   support\n",
      "\n",
      "     Grade A       0.93      0.89      0.91       418\n",
      "     Grade B       0.89      0.92      0.90       422\n",
      "     Grade C       0.97      0.97      0.97       421\n",
      "\n",
      "    accuracy                           0.93      1261\n",
      "   macro avg       0.93      0.93      0.93      1261\n",
      "weighted avg       0.93      0.93      0.93      1261\n",
      "\n",
      "Checkpoint saved at epoch 29\n"
     ]
    },
    {
     "name": "stderr",
     "output_type": "stream",
     "text": [
      "Epoch 30/50 - Training: 100%|██████████| 1260/1260 [03:41<00:00,  5.69it/s]\n"
     ]
    },
    {
     "name": "stdout",
     "output_type": "stream",
     "text": [
      "Training Loss: 0.2200, Training Accuracy: 0.9767\n"
     ]
    },
    {
     "name": "stderr",
     "output_type": "stream",
     "text": [
      "Epoch 30/50 - Validation: 100%|██████████| 158/158 [00:30<00:00,  5.24it/s]\n"
     ]
    },
    {
     "name": "stdout",
     "output_type": "stream",
     "text": [
      "Validation Loss: 1.1189, Validation Accuracy: 0.9310, Top-3 Accuracy: 1.0000\n",
      "Classification Report:\n",
      "               precision    recall  f1-score   support\n",
      "\n",
      "     Grade A       0.92      0.92      0.92       418\n",
      "     Grade B       0.93      0.90      0.91       422\n",
      "     Grade C       0.95      0.98      0.96       421\n",
      "\n",
      "    accuracy                           0.93      1261\n",
      "   macro avg       0.93      0.93      0.93      1261\n",
      "weighted avg       0.93      0.93      0.93      1261\n",
      "\n",
      "Checkpoint saved at epoch 30\n"
     ]
    },
    {
     "name": "stderr",
     "output_type": "stream",
     "text": [
      "Epoch 31/50 - Training: 100%|██████████| 1260/1260 [03:41<00:00,  5.69it/s]\n"
     ]
    },
    {
     "name": "stdout",
     "output_type": "stream",
     "text": [
      "Training Loss: 0.4467, Training Accuracy: 0.9355\n"
     ]
    },
    {
     "name": "stderr",
     "output_type": "stream",
     "text": [
      "Epoch 31/50 - Validation: 100%|██████████| 158/158 [00:30<00:00,  5.21it/s]\n"
     ]
    },
    {
     "name": "stdout",
     "output_type": "stream",
     "text": [
      "Validation Loss: 1.2708, Validation Accuracy: 0.9017, Top-3 Accuracy: 1.0000\n",
      "Classification Report:\n",
      "               precision    recall  f1-score   support\n",
      "\n",
      "     Grade A       0.92      0.85      0.88       418\n",
      "     Grade B       0.90      0.87      0.89       422\n",
      "     Grade C       0.88      0.98      0.93       421\n",
      "\n",
      "    accuracy                           0.90      1261\n",
      "   macro avg       0.90      0.90      0.90      1261\n",
      "weighted avg       0.90      0.90      0.90      1261\n",
      "\n",
      "Checkpoint saved at epoch 31\n"
     ]
    },
    {
     "name": "stderr",
     "output_type": "stream",
     "text": [
      "Epoch 32/50 - Training: 100%|██████████| 1260/1260 [03:41<00:00,  5.69it/s]\n"
     ]
    },
    {
     "name": "stdout",
     "output_type": "stream",
     "text": [
      "Training Loss: 0.1114, Training Accuracy: 0.9849\n"
     ]
    },
    {
     "name": "stderr",
     "output_type": "stream",
     "text": [
      "Epoch 32/50 - Validation: 100%|██████████| 158/158 [00:30<00:00,  5.25it/s]\n"
     ]
    },
    {
     "name": "stdout",
     "output_type": "stream",
     "text": [
      "Validation Loss: 0.5975, Validation Accuracy: 0.9556, Top-3 Accuracy: 1.0000\n",
      "Classification Report:\n",
      "               precision    recall  f1-score   support\n",
      "\n",
      "     Grade A       0.96      0.94      0.95       418\n",
      "     Grade B       0.94      0.94      0.94       422\n",
      "     Grade C       0.97      0.99      0.98       421\n",
      "\n",
      "    accuracy                           0.96      1261\n",
      "   macro avg       0.96      0.96      0.96      1261\n",
      "weighted avg       0.96      0.96      0.96      1261\n",
      "\n",
      "Checkpoint saved at epoch 32\n"
     ]
    },
    {
     "name": "stderr",
     "output_type": "stream",
     "text": [
      "Epoch 33/50 - Training: 100%|██████████| 1260/1260 [03:41<00:00,  5.70it/s]\n"
     ]
    },
    {
     "name": "stdout",
     "output_type": "stream",
     "text": [
      "Training Loss: 0.0511, Training Accuracy: 0.9934\n"
     ]
    },
    {
     "name": "stderr",
     "output_type": "stream",
     "text": [
      "Epoch 33/50 - Validation: 100%|██████████| 158/158 [00:29<00:00,  5.31it/s]\n"
     ]
    },
    {
     "name": "stdout",
     "output_type": "stream",
     "text": [
      "Validation Loss: 0.8653, Validation Accuracy: 0.9461, Top-3 Accuracy: 1.0000\n",
      "Classification Report:\n",
      "               precision    recall  f1-score   support\n",
      "\n",
      "     Grade A       0.94      0.93      0.93       418\n",
      "     Grade B       0.93      0.92      0.93       422\n",
      "     Grade C       0.97      0.98      0.98       421\n",
      "\n",
      "    accuracy                           0.95      1261\n",
      "   macro avg       0.95      0.95      0.95      1261\n",
      "weighted avg       0.95      0.95      0.95      1261\n",
      "\n",
      "Checkpoint saved at epoch 33\n"
     ]
    },
    {
     "name": "stderr",
     "output_type": "stream",
     "text": [
      "Epoch 34/50 - Training: 100%|██████████| 1260/1260 [03:41<00:00,  5.69it/s]\n"
     ]
    },
    {
     "name": "stdout",
     "output_type": "stream",
     "text": [
      "Training Loss: 0.1097, Training Accuracy: 0.9884\n"
     ]
    },
    {
     "name": "stderr",
     "output_type": "stream",
     "text": [
      "Epoch 34/50 - Validation: 100%|██████████| 158/158 [00:29<00:00,  5.30it/s]\n"
     ]
    },
    {
     "name": "stdout",
     "output_type": "stream",
     "text": [
      "Validation Loss: 1.0116, Validation Accuracy: 0.9350, Top-3 Accuracy: 1.0000\n",
      "Classification Report:\n",
      "               precision    recall  f1-score   support\n",
      "\n",
      "     Grade A       0.90      0.93      0.91       418\n",
      "     Grade B       0.92      0.90      0.91       422\n",
      "     Grade C       0.99      0.98      0.98       421\n",
      "\n",
      "    accuracy                           0.93      1261\n",
      "   macro avg       0.94      0.93      0.94      1261\n",
      "weighted avg       0.94      0.93      0.94      1261\n",
      "\n",
      "Checkpoint saved at epoch 34\n"
     ]
    },
    {
     "name": "stderr",
     "output_type": "stream",
     "text": [
      "Epoch 35/50 - Training: 100%|██████████| 1260/1260 [03:41<00:00,  5.69it/s]\n"
     ]
    },
    {
     "name": "stdout",
     "output_type": "stream",
     "text": [
      "Training Loss: 0.0535, Training Accuracy: 0.9920\n"
     ]
    },
    {
     "name": "stderr",
     "output_type": "stream",
     "text": [
      "Epoch 35/50 - Validation: 100%|██████████| 158/158 [00:33<00:00,  4.73it/s]\n"
     ]
    },
    {
     "name": "stdout",
     "output_type": "stream",
     "text": [
      "Validation Loss: 0.7981, Validation Accuracy: 0.9477, Top-3 Accuracy: 1.0000\n",
      "Classification Report:\n",
      "               precision    recall  f1-score   support\n",
      "\n",
      "     Grade A       0.97      0.90      0.94       418\n",
      "     Grade B       0.92      0.95      0.93       422\n",
      "     Grade C       0.96      0.99      0.97       421\n",
      "\n",
      "    accuracy                           0.95      1261\n",
      "   macro avg       0.95      0.95      0.95      1261\n",
      "weighted avg       0.95      0.95      0.95      1261\n",
      "\n",
      "Checkpoint saved at epoch 35\n"
     ]
    },
    {
     "name": "stderr",
     "output_type": "stream",
     "text": [
      "Epoch 36/50 - Training: 100%|██████████| 1260/1260 [03:43<00:00,  5.64it/s]\n"
     ]
    },
    {
     "name": "stdout",
     "output_type": "stream",
     "text": [
      "Training Loss: 0.0796, Training Accuracy: 0.9910\n"
     ]
    },
    {
     "name": "stderr",
     "output_type": "stream",
     "text": [
      "Epoch 36/50 - Validation: 100%|██████████| 158/158 [00:32<00:00,  4.88it/s]\n"
     ]
    },
    {
     "name": "stdout",
     "output_type": "stream",
     "text": [
      "Validation Loss: 0.8527, Validation Accuracy: 0.9508, Top-3 Accuracy: 1.0000\n",
      "Classification Report:\n",
      "               precision    recall  f1-score   support\n",
      "\n",
      "     Grade A       0.93      0.94      0.94       418\n",
      "     Grade B       0.95      0.93      0.94       422\n",
      "     Grade C       0.97      0.98      0.98       421\n",
      "\n",
      "    accuracy                           0.95      1261\n",
      "   macro avg       0.95      0.95      0.95      1261\n",
      "weighted avg       0.95      0.95      0.95      1261\n",
      "\n",
      "Checkpoint saved at epoch 36\n"
     ]
    },
    {
     "name": "stderr",
     "output_type": "stream",
     "text": [
      "Epoch 37/50 - Training: 100%|██████████| 1260/1260 [03:42<00:00,  5.67it/s]\n"
     ]
    },
    {
     "name": "stdout",
     "output_type": "stream",
     "text": [
      "Training Loss: 0.0637, Training Accuracy: 0.9918\n"
     ]
    },
    {
     "name": "stderr",
     "output_type": "stream",
     "text": [
      "Epoch 37/50 - Validation: 100%|██████████| 158/158 [00:30<00:00,  5.25it/s]\n"
     ]
    },
    {
     "name": "stdout",
     "output_type": "stream",
     "text": [
      "Validation Loss: 0.6115, Validation Accuracy: 0.9548, Top-3 Accuracy: 1.0000\n",
      "Classification Report:\n",
      "               precision    recall  f1-score   support\n",
      "\n",
      "     Grade A       0.96      0.93      0.94       418\n",
      "     Grade B       0.93      0.95      0.94       422\n",
      "     Grade C       0.97      0.98      0.98       421\n",
      "\n",
      "    accuracy                           0.95      1261\n",
      "   macro avg       0.95      0.95      0.95      1261\n",
      "weighted avg       0.95      0.95      0.95      1261\n",
      "\n",
      "Checkpoint saved at epoch 37\n"
     ]
    },
    {
     "name": "stderr",
     "output_type": "stream",
     "text": [
      "Epoch 38/50 - Training: 100%|██████████| 1260/1260 [03:41<00:00,  5.69it/s]\n"
     ]
    },
    {
     "name": "stdout",
     "output_type": "stream",
     "text": [
      "Training Loss: 0.0277, Training Accuracy: 0.9961\n"
     ]
    },
    {
     "name": "stderr",
     "output_type": "stream",
     "text": [
      "Epoch 38/50 - Validation: 100%|██████████| 158/158 [00:30<00:00,  5.25it/s]\n"
     ]
    },
    {
     "name": "stdout",
     "output_type": "stream",
     "text": [
      "Validation Loss: 0.6435, Validation Accuracy: 0.9603, Top-3 Accuracy: 1.0000\n",
      "Classification Report:\n",
      "               precision    recall  f1-score   support\n",
      "\n",
      "     Grade A       0.95      0.95      0.95       418\n",
      "     Grade B       0.95      0.94      0.94       422\n",
      "     Grade C       0.98      0.98      0.98       421\n",
      "\n",
      "    accuracy                           0.96      1261\n",
      "   macro avg       0.96      0.96      0.96      1261\n",
      "weighted avg       0.96      0.96      0.96      1261\n",
      "\n",
      "Checkpoint saved at epoch 38\n"
     ]
    },
    {
     "name": "stderr",
     "output_type": "stream",
     "text": [
      "Epoch 39/50 - Training: 100%|██████████| 1260/1260 [03:41<00:00,  5.70it/s]\n"
     ]
    },
    {
     "name": "stdout",
     "output_type": "stream",
     "text": [
      "Training Loss: 0.0207, Training Accuracy: 0.9963\n"
     ]
    },
    {
     "name": "stderr",
     "output_type": "stream",
     "text": [
      "Epoch 39/50 - Validation: 100%|██████████| 158/158 [00:29<00:00,  5.28it/s]\n"
     ]
    },
    {
     "name": "stdout",
     "output_type": "stream",
     "text": [
      "Validation Loss: 0.6096, Validation Accuracy: 0.9611, Top-3 Accuracy: 1.0000\n",
      "Classification Report:\n",
      "               precision    recall  f1-score   support\n",
      "\n",
      "     Grade A       0.94      0.97      0.95       418\n",
      "     Grade B       0.97      0.92      0.95       422\n",
      "     Grade C       0.97      0.99      0.98       421\n",
      "\n",
      "    accuracy                           0.96      1261\n",
      "   macro avg       0.96      0.96      0.96      1261\n",
      "weighted avg       0.96      0.96      0.96      1261\n",
      "\n",
      "Saved Best Model\n",
      "Checkpoint saved at epoch 39\n"
     ]
    },
    {
     "name": "stderr",
     "output_type": "stream",
     "text": [
      "Epoch 40/50 - Training: 100%|██████████| 1260/1260 [03:41<00:00,  5.70it/s]\n"
     ]
    },
    {
     "name": "stdout",
     "output_type": "stream",
     "text": [
      "Training Loss: 0.0136, Training Accuracy: 0.9966\n"
     ]
    },
    {
     "name": "stderr",
     "output_type": "stream",
     "text": [
      "Epoch 40/50 - Validation: 100%|██████████| 158/158 [00:29<00:00,  5.32it/s]\n"
     ]
    },
    {
     "name": "stdout",
     "output_type": "stream",
     "text": [
      "Validation Loss: 0.5764, Validation Accuracy: 0.9651, Top-3 Accuracy: 1.0000\n",
      "Classification Report:\n",
      "               precision    recall  f1-score   support\n",
      "\n",
      "     Grade A       0.97      0.94      0.95       418\n",
      "     Grade B       0.95      0.96      0.95       422\n",
      "     Grade C       0.98      1.00      0.99       421\n",
      "\n",
      "    accuracy                           0.97      1261\n",
      "   macro avg       0.97      0.97      0.97      1261\n",
      "weighted avg       0.97      0.97      0.97      1261\n",
      "\n",
      "Saved Best Model\n",
      "Checkpoint saved at epoch 40\n"
     ]
    },
    {
     "name": "stderr",
     "output_type": "stream",
     "text": [
      "Epoch 41/50 - Training: 100%|██████████| 1260/1260 [03:41<00:00,  5.70it/s]\n"
     ]
    },
    {
     "name": "stdout",
     "output_type": "stream",
     "text": [
      "Training Loss: 0.0169, Training Accuracy: 0.9970\n"
     ]
    },
    {
     "name": "stderr",
     "output_type": "stream",
     "text": [
      "Epoch 41/50 - Validation: 100%|██████████| 158/158 [00:30<00:00,  5.26it/s]\n"
     ]
    },
    {
     "name": "stdout",
     "output_type": "stream",
     "text": [
      "Validation Loss: 0.5857, Validation Accuracy: 0.9675, Top-3 Accuracy: 1.0000\n",
      "Classification Report:\n",
      "               precision    recall  f1-score   support\n",
      "\n",
      "     Grade A       0.96      0.96      0.96       418\n",
      "     Grade B       0.95      0.95      0.95       422\n",
      "     Grade C       0.99      0.99      0.99       421\n",
      "\n",
      "    accuracy                           0.97      1261\n",
      "   macro avg       0.97      0.97      0.97      1261\n",
      "weighted avg       0.97      0.97      0.97      1261\n",
      "\n",
      "Saved Best Model\n",
      "Checkpoint saved at epoch 41\n"
     ]
    },
    {
     "name": "stderr",
     "output_type": "stream",
     "text": [
      "Epoch 42/50 - Training: 100%|██████████| 1260/1260 [03:41<00:00,  5.70it/s]\n"
     ]
    },
    {
     "name": "stdout",
     "output_type": "stream",
     "text": [
      "Training Loss: 0.0155, Training Accuracy: 0.9968\n"
     ]
    },
    {
     "name": "stderr",
     "output_type": "stream",
     "text": [
      "Epoch 42/50 - Validation: 100%|██████████| 158/158 [00:30<00:00,  5.25it/s]\n"
     ]
    },
    {
     "name": "stdout",
     "output_type": "stream",
     "text": [
      "Validation Loss: 0.5705, Validation Accuracy: 0.9643, Top-3 Accuracy: 1.0000\n",
      "Classification Report:\n",
      "               precision    recall  f1-score   support\n",
      "\n",
      "     Grade A       0.95      0.96      0.95       418\n",
      "     Grade B       0.96      0.94      0.95       422\n",
      "     Grade C       0.99      0.99      0.99       421\n",
      "\n",
      "    accuracy                           0.96      1261\n",
      "   macro avg       0.96      0.96      0.96      1261\n",
      "weighted avg       0.96      0.96      0.96      1261\n",
      "\n",
      "Checkpoint saved at epoch 42\n"
     ]
    },
    {
     "name": "stderr",
     "output_type": "stream",
     "text": [
      "Epoch 43/50 - Training: 100%|██████████| 1260/1260 [03:42<00:00,  5.68it/s]\n"
     ]
    },
    {
     "name": "stdout",
     "output_type": "stream",
     "text": [
      "Training Loss: 0.0136, Training Accuracy: 0.9971\n"
     ]
    },
    {
     "name": "stderr",
     "output_type": "stream",
     "text": [
      "Epoch 43/50 - Validation: 100%|██████████| 158/158 [00:30<00:00,  5.20it/s]\n"
     ]
    },
    {
     "name": "stdout",
     "output_type": "stream",
     "text": [
      "Validation Loss: 0.5672, Validation Accuracy: 0.9683, Top-3 Accuracy: 1.0000\n",
      "Classification Report:\n",
      "               precision    recall  f1-score   support\n",
      "\n",
      "     Grade A       0.95      0.96      0.96       418\n",
      "     Grade B       0.96      0.95      0.95       422\n",
      "     Grade C       0.99      0.99      0.99       421\n",
      "\n",
      "    accuracy                           0.97      1261\n",
      "   macro avg       0.97      0.97      0.97      1261\n",
      "weighted avg       0.97      0.97      0.97      1261\n",
      "\n",
      "Saved Best Model\n",
      "Checkpoint saved at epoch 43\n"
     ]
    },
    {
     "name": "stderr",
     "output_type": "stream",
     "text": [
      "Epoch 44/50 - Training: 100%|██████████| 1260/1260 [03:41<00:00,  5.68it/s]\n"
     ]
    },
    {
     "name": "stdout",
     "output_type": "stream",
     "text": [
      "Training Loss: 0.0163, Training Accuracy: 0.9967\n"
     ]
    },
    {
     "name": "stderr",
     "output_type": "stream",
     "text": [
      "Epoch 44/50 - Validation: 100%|██████████| 158/158 [00:29<00:00,  5.29it/s]\n"
     ]
    },
    {
     "name": "stdout",
     "output_type": "stream",
     "text": [
      "Validation Loss: 0.6199, Validation Accuracy: 0.9627, Top-3 Accuracy: 1.0000\n",
      "Classification Report:\n",
      "               precision    recall  f1-score   support\n",
      "\n",
      "     Grade A       0.93      0.97      0.95       418\n",
      "     Grade B       0.96      0.93      0.94       422\n",
      "     Grade C       1.00      0.99      0.99       421\n",
      "\n",
      "    accuracy                           0.96      1261\n",
      "   macro avg       0.96      0.96      0.96      1261\n",
      "weighted avg       0.96      0.96      0.96      1261\n",
      "\n",
      "Checkpoint saved at epoch 44\n"
     ]
    },
    {
     "name": "stderr",
     "output_type": "stream",
     "text": [
      "Epoch 45/50 - Training: 100%|██████████| 1260/1260 [03:41<00:00,  5.69it/s]\n"
     ]
    },
    {
     "name": "stdout",
     "output_type": "stream",
     "text": [
      "Training Loss: 0.0120, Training Accuracy: 0.9968\n"
     ]
    },
    {
     "name": "stderr",
     "output_type": "stream",
     "text": [
      "Epoch 45/50 - Validation: 100%|██████████| 158/158 [00:30<00:00,  5.25it/s]\n"
     ]
    },
    {
     "name": "stdout",
     "output_type": "stream",
     "text": [
      "Validation Loss: 0.5639, Validation Accuracy: 0.9659, Top-3 Accuracy: 1.0000\n",
      "Classification Report:\n",
      "               precision    recall  f1-score   support\n",
      "\n",
      "     Grade A       0.92      0.98      0.95       418\n",
      "     Grade B       0.98      0.93      0.95       422\n",
      "     Grade C       1.00      0.99      0.99       421\n",
      "\n",
      "    accuracy                           0.97      1261\n",
      "   macro avg       0.97      0.97      0.97      1261\n",
      "weighted avg       0.97      0.97      0.97      1261\n",
      "\n",
      "Checkpoint saved at epoch 45\n"
     ]
    },
    {
     "name": "stderr",
     "output_type": "stream",
     "text": [
      "Epoch 46/50 - Training: 100%|██████████| 1260/1260 [03:41<00:00,  5.70it/s]\n"
     ]
    },
    {
     "name": "stdout",
     "output_type": "stream",
     "text": [
      "Training Loss: 0.0233, Training Accuracy: 0.9960\n"
     ]
    },
    {
     "name": "stderr",
     "output_type": "stream",
     "text": [
      "Epoch 46/50 - Validation: 100%|██████████| 158/158 [00:29<00:00,  5.28it/s]\n"
     ]
    },
    {
     "name": "stdout",
     "output_type": "stream",
     "text": [
      "Validation Loss: 0.5648, Validation Accuracy: 0.9667, Top-3 Accuracy: 1.0000\n",
      "Classification Report:\n",
      "               precision    recall  f1-score   support\n",
      "\n",
      "     Grade A       0.96      0.96      0.96       418\n",
      "     Grade B       0.96      0.95      0.95       422\n",
      "     Grade C       0.99      0.99      0.99       421\n",
      "\n",
      "    accuracy                           0.97      1261\n",
      "   macro avg       0.97      0.97      0.97      1261\n",
      "weighted avg       0.97      0.97      0.97      1261\n",
      "\n",
      "Checkpoint saved at epoch 46\n"
     ]
    },
    {
     "name": "stderr",
     "output_type": "stream",
     "text": [
      "Epoch 47/50 - Training: 100%|██████████| 1260/1260 [03:41<00:00,  5.69it/s]\n"
     ]
    },
    {
     "name": "stdout",
     "output_type": "stream",
     "text": [
      "Training Loss: 0.0143, Training Accuracy: 0.9963\n"
     ]
    },
    {
     "name": "stderr",
     "output_type": "stream",
     "text": [
      "Epoch 47/50 - Validation: 100%|██████████| 158/158 [00:30<00:00,  5.25it/s]\n"
     ]
    },
    {
     "name": "stdout",
     "output_type": "stream",
     "text": [
      "Validation Loss: 0.7317, Validation Accuracy: 0.9588, Top-3 Accuracy: 1.0000\n",
      "Classification Report:\n",
      "               precision    recall  f1-score   support\n",
      "\n",
      "     Grade A       0.92      0.98      0.95       418\n",
      "     Grade B       0.97      0.92      0.94       422\n",
      "     Grade C       0.99      0.98      0.98       421\n",
      "\n",
      "    accuracy                           0.96      1261\n",
      "   macro avg       0.96      0.96      0.96      1261\n",
      "weighted avg       0.96      0.96      0.96      1261\n",
      "\n",
      "Checkpoint saved at epoch 47\n"
     ]
    },
    {
     "name": "stderr",
     "output_type": "stream",
     "text": [
      "Epoch 48/50 - Training: 100%|██████████| 1260/1260 [03:41<00:00,  5.69it/s]\n"
     ]
    },
    {
     "name": "stdout",
     "output_type": "stream",
     "text": [
      "Training Loss: 0.0147, Training Accuracy: 0.9962\n"
     ]
    },
    {
     "name": "stderr",
     "output_type": "stream",
     "text": [
      "Epoch 48/50 - Validation: 100%|██████████| 158/158 [00:29<00:00,  5.30it/s]\n"
     ]
    },
    {
     "name": "stdout",
     "output_type": "stream",
     "text": [
      "Validation Loss: 0.7769, Validation Accuracy: 0.9603, Top-3 Accuracy: 1.0000\n",
      "Classification Report:\n",
      "               precision    recall  f1-score   support\n",
      "\n",
      "     Grade A       0.96      0.95      0.95       418\n",
      "     Grade B       0.96      0.94      0.95       422\n",
      "     Grade C       0.97      0.99      0.98       421\n",
      "\n",
      "    accuracy                           0.96      1261\n",
      "   macro avg       0.96      0.96      0.96      1261\n",
      "weighted avg       0.96      0.96      0.96      1261\n",
      "\n",
      "Checkpoint saved at epoch 48\n"
     ]
    },
    {
     "name": "stderr",
     "output_type": "stream",
     "text": [
      "Epoch 49/50 - Training: 100%|██████████| 1260/1260 [03:41<00:00,  5.69it/s]\n"
     ]
    },
    {
     "name": "stdout",
     "output_type": "stream",
     "text": [
      "Training Loss: 0.0998, Training Accuracy: 0.9901\n"
     ]
    },
    {
     "name": "stderr",
     "output_type": "stream",
     "text": [
      "Epoch 49/50 - Validation: 100%|██████████| 158/158 [00:29<00:00,  5.27it/s]\n"
     ]
    },
    {
     "name": "stdout",
     "output_type": "stream",
     "text": [
      "Validation Loss: 0.8370, Validation Accuracy: 0.9477, Top-3 Accuracy: 1.0000\n",
      "Classification Report:\n",
      "               precision    recall  f1-score   support\n",
      "\n",
      "     Grade A       0.93      0.95      0.94       418\n",
      "     Grade B       0.95      0.90      0.93       422\n",
      "     Grade C       0.96      0.99      0.98       421\n",
      "\n",
      "    accuracy                           0.95      1261\n",
      "   macro avg       0.95      0.95      0.95      1261\n",
      "weighted avg       0.95      0.95      0.95      1261\n",
      "\n",
      "Checkpoint saved at epoch 49\n"
     ]
    },
    {
     "name": "stderr",
     "output_type": "stream",
     "text": [
      "Epoch 50/50 - Training: 100%|██████████| 1260/1260 [03:41<00:00,  5.69it/s]\n"
     ]
    },
    {
     "name": "stdout",
     "output_type": "stream",
     "text": [
      "Training Loss: 0.0330, Training Accuracy: 0.9948\n"
     ]
    },
    {
     "name": "stderr",
     "output_type": "stream",
     "text": [
      "Epoch 50/50 - Validation: 100%|██████████| 158/158 [00:29<00:00,  5.27it/s]\n"
     ]
    },
    {
     "name": "stdout",
     "output_type": "stream",
     "text": [
      "Validation Loss: 0.7161, Validation Accuracy: 0.9588, Top-3 Accuracy: 1.0000\n",
      "Classification Report:\n",
      "               precision    recall  f1-score   support\n",
      "\n",
      "     Grade A       0.93      0.96      0.95       418\n",
      "     Grade B       0.97      0.92      0.94       422\n",
      "     Grade C       0.98      0.99      0.99       421\n",
      "\n",
      "    accuracy                           0.96      1261\n",
      "   macro avg       0.96      0.96      0.96      1261\n",
      "weighted avg       0.96      0.96      0.96      1261\n",
      "\n",
      "Checkpoint saved at epoch 50\n"
     ]
    }
   ],
   "source": [
    "# Enables CuDNN benchmarking, which optimizes GPU performance by selecting the fastest convolution algorithms for your model.\n",
    "# Helps if input sizes don’t change much (like the fixed 480x480 images).\n",
    "torch.backends.cudnn.benchmark = True\n",
    "\n",
    "# writer = SummaryWriter(log_dir=\"runs/efficientnet_v2_m\")\n",
    "\n",
    "# Training and validation loop with checkpoint saving\n",
    "for epoch in range(start_epoch, num_epochs):\n",
    "    model.train()\n",
    "    running_loss = 0.0\n",
    "    running_corrects = 0\n",
    "\n",
    "    scaler = GradScaler()  # Initialize gradient scaler\n",
    "\n",
    "    for inputs, labels in tqdm(train_loader, desc=f\"Epoch {epoch+1}/{num_epochs} - Training\"):\n",
    "\n",
    "        # Mixed Precision Training\n",
    "        inputs, labels = inputs.to(device), labels.to(device)\n",
    "        optimizer.zero_grad()\n",
    "    \n",
    "        with autocast():  # Enable mixed precision\n",
    "            outputs = model(inputs)\n",
    "            loss = criterion(outputs, labels)\n",
    "\n",
    "        scaler.scale(loss).backward()  # Scale gradients to prevent underflow\n",
    "        torch.nn.utils.clip_grad_norm_(model.parameters(), max_norm=1.0)  # ✅ Prevent exploding gradients\n",
    "        scaler.step(optimizer)  # Update weights\n",
    "        scaler.update()  # Adjust scaling factor\n",
    "\n",
    "        # ✅ Update loss and accuracy tracking\n",
    "        running_loss += loss.item() * inputs.size(0)\n",
    "        _, preds = torch.max(outputs, 1)\n",
    "        running_corrects += torch.sum(preds == labels.data)\n",
    "\n",
    "    epoch_loss = running_loss / len(train_dataset)\n",
    "    epoch_acc = running_corrects.double() / len(train_dataset)\n",
    "    train_accuracies.append(epoch_acc.item())\n",
    "\n",
    "    print(f\"Training Loss: {epoch_loss:.4f}, Training Accuracy: {epoch_acc:.4f}\")\n",
    "\n",
    "    # ✅ Log training loss and accuracy to TensorBoard\n",
    "    # writer.add_scalar(\"Loss/train\", epoch_loss, epoch)\n",
    "    # writer.add_scalar(\"Accuracy/train\", epoch_acc, epoch)\n",
    "\n",
    "    # ================= Validation ==================\n",
    "    model.eval()\n",
    "    val_loss = 0.0\n",
    "    val_corrects = 0\n",
    "    top_k_corrects = 0\n",
    "    all_labels = []\n",
    "    all_preds = []\n",
    "\n",
    "    with torch.no_grad():\n",
    "        for inputs, labels in tqdm(val_loader, desc=f\"Epoch {epoch+1}/{num_epochs} - Validation\"):\n",
    "            inputs, labels = inputs.to(device), labels.to(device)\n",
    "            outputs = model(inputs)\n",
    "            loss = criterion(outputs, labels)\n",
    "            val_loss += loss.item() * inputs.size(0)\n",
    "\n",
    "            _, preds = torch.max(outputs, 1)\n",
    "            val_corrects += torch.sum(preds == labels.data)\n",
    "            top_k_corrects += top_k_accuracy(outputs, labels, k=top_k) * labels.size(0)\n",
    "\n",
    "            all_labels.extend(labels.cpu().numpy())\n",
    "            all_preds.extend(preds.cpu().numpy())\n",
    "\n",
    "    val_loss /= len(val_dataset)\n",
    "    val_accuracy = val_corrects.double() / len(val_dataset)\n",
    "    val_top_k_accuracy = top_k_corrects / len(val_dataset)  # ✅ Divide by total validation samples\n",
    "    val_accuracies.append(val_accuracy.item())\n",
    "    top_k_accuracies.append(val_top_k_accuracy)\n",
    "\n",
    "    conf_matrix, accuracy, report = calculate_metrics(all_labels, all_preds, class_names)\n",
    "\n",
    "    print(f\"Validation Loss: {val_loss:.4f}, Validation Accuracy: {val_accuracy:.4f}, Top-{top_k} Accuracy: {val_top_k_accuracy:.4f}\")\n",
    "    print(\"Classification Report:\\n\", report)\n",
    "\n",
    "    # ✅ Log validation loss and accuracy to TensorBoard\n",
    "    # writer.add_scalar(\"Loss/val\", val_loss, epoch)\n",
    "    # writer.add_scalar(\"Accuracy/val\", val_accuracy, epoch)\n",
    "\n",
    "    if val_accuracy > best_val_accuracy:\n",
    "        best_val_accuracy = val_accuracy\n",
    "        torch.save(model.state_dict(), 'best_model.pth')\n",
    "        print(\"Saved Best Model\")\n",
    "\n",
    "    # Save checkpoint at the end of each epoch\n",
    "    save_checkpoint(epoch, model, optimizer, scheduler, best_val_accuracy, checkpoint_filename)\n",
    "    print(f\"Checkpoint saved at epoch {epoch + 1}\")\n",
    "\n",
    "    torch.save(model.state_dict(), 'last_model.pth')\n",
    "\n",
    "    # writer.add_scalar(\"Learning Rate\", optimizer.param_groups[0]['lr'], epoch)  # ✅ Log before LR update\n",
    "    scheduler.step()\n",
    "\n",
    "# writer.close()  # ✅ Closes TensorBoard writer\n",
    "\n",
    "# Open terminal and run tensorboard --logdir=runs"
   ]
  },
  {
   "cell_type": "markdown",
   "metadata": {},
   "source": [
    "Accuracy Over Epochs Graph"
   ]
  },
  {
   "cell_type": "code",
   "execution_count": 10,
   "metadata": {},
   "outputs": [
    {
     "data": {
      "image/png": "[encoded data removed]",
      "text/plain": [
       "<Figure size 1200x600 with 1 Axes>"
      ]
     },
     "metadata": {},
     "output_type": "display_data"
    }
   ],
   "source": [
    "# plt.figure(figsize=(12, 6))\n",
    "# plt.plot(range(1, num_epochs + 1), train_accuracies, label='Training Accuracy')\n",
    "# plt.plot(range(1, num_epochs + 1), val_accuracies, label='Validation Accuracy')\n",
    "# plt.title('Training and Validation Accuracy')\n",
    "# plt.xlabel('Epochs')\n",
    "# plt.ylabel('Accuracy')\n",
    "# plt.legend()\n",
    "# plt.grid()\n",
    "# plt.savefig('train-val-acc.png')\n",
    "# plt.show()\n",
    "epochs_range = range(start_epoch + 1, start_epoch + 1 + len(train_accuracies))  # ✅ Use actual recorded epochs\n",
    "\n",
    "plt.figure(figsize=(12, 6))\n",
    "plt.plot(epochs_range, train_accuracies, label='Training Accuracy', marker='o')\n",
    "plt.plot(epochs_range, val_accuracies, label='Validation Accuracy', marker='s')\n",
    "plt.fill_between(epochs_range, \n",
    "                 np.array(val_accuracies) - 0.01, \n",
    "                 np.array(val_accuracies) + 0.01, \n",
    "                 color='b', alpha=0.1)  # Shaded variance region\n",
    "plt.title('Training and Validation Accuracy')\n",
    "plt.xlabel('Epochs')\n",
    "plt.ylabel('Accuracy')\n",
    "plt.legend()\n",
    "plt.grid()\n",
    "plt.savefig('train-val-acc.png')\n",
    "plt.show()\n"
   ]
  },
  {
   "cell_type": "markdown",
   "metadata": {},
   "source": [
    "Top-K Accuracy"
   ]
  },
  {
   "cell_type": "code",
   "execution_count": 11,
   "metadata": {},
   "outputs": [
    {
     "data": {
      "image/png": "[encoded data removed]",
      "text/plain": [
       "<Figure size 1200x600 with 1 Axes>"
      ]
     },
     "metadata": {},
     "output_type": "display_data"
    }
   ],
   "source": [
    "epochs_range = range(start_epoch + 1, start_epoch + 1 + len(val_accuracies))  # ✅ Ensure correct x-axis\n",
    "\n",
    "plt.figure(figsize=(12, 6))\n",
    "plt.plot(epochs_range, val_accuracies, label='Top-1 Validation Accuracy', marker='o')\n",
    "plt.plot(epochs_range, top_k_accuracies, label=f'Top-{top_k} Validation Accuracy', marker='s')\n",
    "plt.title('Top-1 and Top-k Validation Accuracy')\n",
    "plt.xlabel('Epochs')\n",
    "plt.ylabel('Accuracy')\n",
    "plt.legend()\n",
    "plt.grid()\n",
    "plt.savefig('top-k-accuracy.png')\n",
    "plt.show()\n"
   ]
  },
  {
   "cell_type": "markdown",
   "metadata": {},
   "source": [
    "Regular Confusion Matrix"
   ]
  },
  {
   "cell_type": "code",
   "execution_count": 12,
   "metadata": {},
   "outputs": [
    {
     "data": {
      "image/png": "[encoded data removed]",
      "text/plain": [
       "<Figure size 1000x800 with 2 Axes>"
      ]
     },
     "metadata": {},
     "output_type": "display_data"
    }
   ],
   "source": [
    "# Confusion matrix (in number)\n",
    "plt.figure(figsize=(10, 8))\n",
    "sns.heatmap(conf_matrix, annot=True, fmt='d', cmap=plt.cm.Blues, xticklabels=class_names, yticklabels=class_names)\n",
    "plt.title(\"Confusion Matrix\")\n",
    "plt.ylabel('True Label')\n",
    "plt.xlabel('Predicted Label')\n",
    "plt.savefig('confusion-matrix.png')\n",
    "plt.show()"
   ]
  },
  {
   "cell_type": "markdown",
   "metadata": {},
   "source": [
    "Normalized Confusion Matrix\n"
   ]
  },
  {
   "cell_type": "code",
   "execution_count": 13,
   "metadata": {},
   "outputs": [
    {
     "data": {
      "image/png": "[encoded data removed]",
      "text/plain": [
       "<Figure size 1000x800 with 2 Axes>"
      ]
     },
     "metadata": {},
     "output_type": "display_data"
    }
   ],
   "source": [
    "row_sums = conf_matrix.sum(axis=1, keepdims=True)\n",
    "row_sums[row_sums == 0] = 1  # ✅ Prevent division by zero\n",
    "conf_matrix_normalized = conf_matrix.astype('float') / row_sums\n",
    "\n",
    "# Confusion matrix\n",
    "plt.figure(figsize=(10, 8))\n",
    "\n",
    "# Normalize confusion matrix\n",
    "conf_matrix_normalized = conf_matrix.astype('float') / conf_matrix.sum(axis=1)[:, np.newaxis]\n",
    "\n",
    "sns.heatmap(conf_matrix_normalized, annot=True, fmt=\".2f\", cmap=\"Blues\", xticklabels=class_names, yticklabels=class_names)\n",
    "plt.title(\"Confusion Matrix (Normalized)\")\n",
    "plt.ylabel('True Label')\n",
    "plt.xlabel('Predicted Label')\n",
    "plt.savefig('norm-confusion-matrix.png')\n",
    "plt.show()\n"
   ]
  },
  {
   "cell_type": "markdown",
   "metadata": {},
   "source": [
    "Test validation Function"
   ]
  },
  {
   "cell_type": "code",
   "execution_count": 14,
   "metadata": {},
   "outputs": [],
   "source": [
    "# Function to load the best model before testing\n",
    "def load_best_model(model, best_model_path=\"best_model.pth\"):\n",
    "    model.load_state_dict(torch.load(best_model_path))\n",
    "    model.to(device)  # Ensure model is on the right device\n",
    "    print(\"✅ Best model loaded successfully!\")\n",
    "\n",
    "# Function to evaluate on the test set\n",
    "def evaluate_on_test_set(model, test_loader, criterion, class_names, test_dataset):\n",
    "    model.eval()\n",
    "    test_loss = 0.0\n",
    "    test_corrects = 0\n",
    "    all_test_labels = []\n",
    "    all_test_preds = []\n",
    "\n",
    "    with torch.no_grad():\n",
    "        for inputs, labels in tqdm(test_loader, desc=\"Evaluating on Test Set\"):\n",
    "            inputs, labels = inputs.to(device), labels.to(device)\n",
    "            outputs = model(inputs)\n",
    "            loss = criterion(outputs, labels)\n",
    "\n",
    "            test_loss += loss.item() * inputs.size(0)\n",
    "            _, preds = torch.max(outputs, 1)\n",
    "            test_corrects += torch.sum(preds == labels.data)\n",
    "\n",
    "            all_test_labels.extend(labels.cpu().numpy())\n",
    "            all_test_preds.extend(preds.cpu().numpy())\n",
    "\n",
    "    test_loss /= len(test_dataset)\n",
    "    test_accuracy = test_corrects.double() / len(test_dataset)\n",
    "\n",
    "    # Calculate metrics\n",
    "    conf_matrix, accuracy, report = calculate_metrics(all_test_labels, all_test_preds, class_names)\n",
    "\n",
    "    print(f\"\\n✅ Test Loss: {test_loss:.4f}, Test Accuracy: {test_accuracy:.4f}\")\n",
    "    print(\"🔍 Classification Report:\\n\", report)\n",
    "\n",
    "    # Plot confusion matrix\n",
    "    plt.figure(figsize=(10, 8))\n",
    "    sns.heatmap(conf_matrix, annot=True, fmt='d', cmap=\"Blues\", xticklabels=class_names, yticklabels=class_names)\n",
    "    plt.title(\"Test Set Confusion Matrix\")\n",
    "    plt.ylabel('True Label')\n",
    "    plt.xlabel('Predicted Label')\n",
    "    plt.savefig('test-confusion-matrix.png')\n",
    "    plt.show()"
   ]
  },
  {
   "cell_type": "code",
   "execution_count": 15,
   "metadata": {},
   "outputs": [
    {
     "name": "stdout",
     "output_type": "stream",
     "text": [
      "✅ Best model loaded successfully!\n"
     ]
    },
    {
     "name": "stderr",
     "output_type": "stream",
     "text": [
      "Evaluating on Test Set: 100%|██████████| 158/158 [01:38<00:00,  1.60it/s]"
     ]
    },
    {
     "name": "stdout",
     "output_type": "stream",
     "text": [
      "\n",
      "✅ Test Loss: 0.5803, Test Accuracy: 0.9650\n",
      "🔍 Classification Report:\n",
      "               precision    recall  f1-score   support\n",
      "\n",
      "     Grade A       0.93      0.97      0.95       418\n",
      "     Grade B       0.97      0.93      0.95       421\n",
      "     Grade C       1.00      0.99      0.99       419\n",
      "\n",
      "    accuracy                           0.97      1258\n",
      "   macro avg       0.97      0.97      0.97      1258\n",
      "weighted avg       0.97      0.97      0.97      1258\n",
      "\n"
     ]
    },
    {
     "name": "stderr",
     "output_type": "stream",
     "text": [
      "\n"
     ]
    },
    {
     "data": {
      "image/png": "[encoded data removed]",
      "text/plain": [
       "<Figure size 1000x800 with 2 Axes>"
      ]
     },
     "metadata": {},
     "output_type": "display_data"
    }
   ],
   "source": [
    "# Load the best model before evaluating\n",
    "load_best_model(model, \"best_model.pth\")\n",
    "\n",
    "# Evaluate on the test set\n",
    "evaluate_on_test_set(model, test_loader, nn.CrossEntropyLoss(), class_names, test_dataset)"
   ]
  }
 ],
 "metadata": {
  "kernelspec": {
   "display_name": "Python 3",
   "language": "python",
   "name": "python3"
  },
  "language_info": {
   "codemirror_mode": {
    "name": "ipython",
    "version": 3
   },
   "file_extension": ".py",
   "mimetype": "text/x-python",
   "name": "python",
   "nbconvert_exporter": "python",
   "pygments_lexer": "ipython3",
   "version": "3.11.5"
  }
 },
 "nbformat": 4,
 "nbformat_minor": 2
}
