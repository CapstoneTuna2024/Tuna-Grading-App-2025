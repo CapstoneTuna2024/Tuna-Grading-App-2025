{
 "cells": [
  {
   "cell_type": "code",
   "execution_count": null,
   "metadata": {},
   "outputs": [
    {
     "name": "stderr",
     "output_type": "stream",
     "text": [
      "C:\\Users\\naren\\AppData\\Local\\Temp\\ipykernel_3412\\691759952.py:21: UserWarning: Argument 'shear_y' is not valid and will be ignored.\n",
      "  Affine(shear=shear_x, shear_y=shear_y, p=1.0)\n"
     ]
    },
    {
     "name": "stdout",
     "output_type": "stream",
     "text": [
      "Shearing augmentation completed. Augmented images saved to C:/Users/naren/OneDrive/Desktop/Capstone Tuna/datasets/shades-of-gray-augmented-dataset/Grade C/zoom 70_shear 20.\n"
     ]
    }
   ],
   "source": [
    "import os\n",
    "import cv2\n",
    "from albumentations import Affine\n",
    "from albumentations import Compose\n",
    "\n",
    "def shear_images(input_dir, output_dir, shear_x=(-20, 20), shear_y=(-20, 20)):\n",
    "    \"\"\"\n",
    "    Apply shearing augmentation to all images in the input directory and save the results in the output directory.\n",
    "\n",
    "    Parameters:\n",
    "        input_dir (str): Path to the directory containing input images.\n",
    "        output_dir (str): Path to the directory where augmented images will be saved.\n",
    "        shear_x (tuple): Shear range along the x-axis (default: (-20, 20)).\n",
    "        shear_y (tuple): Shear range along the y-axis (default: (-20, 20)).\n",
    "    \"\"\"\n",
    "    if not os.path.exists(output_dir):\n",
    "        os.makedirs(output_dir)\n",
    "\n",
    "    # Define the shearing transformation with noticeable shear range\n",
    "    transform = Compose([\n",
    "        Affine(shear=shear_x, shear_y=shear_y, p=1.0)\n",
    "    ])\n",
    "\n",
    "    # Iterate through all images in the input directory\n",
    "    for filename in os.listdir(input_dir):\n",
    "        input_path = os.path.join(input_dir, filename)\n",
    "        if not filename.lower().endswith(('.png', '.jpg', '.jpeg')):\n",
    "            continue\n",
    "\n",
    "        # Read the image\n",
    "        image = cv2.imread(input_path)\n",
    "        if image is None:\n",
    "            print(f\"Failed to read {filename}. Skipping.\")\n",
    "            continue\n",
    "\n",
    "        # Apply the transformation\n",
    "        augmented = transform(image=image)\n",
    "        augmented_image = augmented['image']\n",
    "\n",
    "        # Save the augmented image\n",
    "        output_path = os.path.join(output_dir, f\"sheared_{filename}\")\n",
    "        cv2.imwrite(output_path, augmented_image)\n",
    "\n",
    "    print(f\"Shearing augmentation completed. Augmented images saved to {output_dir}.\")\n",
    "\n",
    "# Example usage\n",
    "input_directory = \"C:/Users/naren/OneDrive/Desktop/Capstone Tuna/datasets/shades-of-gray-augmented-dataset/Grade C/zoom 70\"\n",
    "output_directory = \"C:/Users/naren/OneDrive/Desktop/Capstone Tuna/datasets/shades-of-gray-augmented-dataset/Grade C/zoom 70_shear 20\"\n",
    "shear_images(input_directory, output_directory, shear_x=(-20, 20), shear_y=(-20, 20))"
   ]
  }
 ],
 "metadata": {
  "kernelspec": {
   "display_name": "Python 3",
   "language": "python",
   "name": "python3"
  },
  "language_info": {
   "codemirror_mode": {
    "name": "ipython",
    "version": 3
   },
   "file_extension": ".py",
   "mimetype": "text/x-python",
   "name": "python",
   "nbconvert_exporter": "python",
   "pygments_lexer": "ipython3",
   "version": "3.13.1"
  }
 },
 "nbformat": 4,
 "nbformat_minor": 2
}
